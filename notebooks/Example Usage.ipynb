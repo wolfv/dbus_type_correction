{
 "cells": [
  {
   "cell_type": "code",
   "execution_count": 1,
   "metadata": {},
   "outputs": [],
   "source": [
    "import sys, os\n",
    "sys.path.append(os.path.join('../build/python'))\n",
    "import suggestr"
   ]
  },
  {
   "cell_type": "code",
   "execution_count": 2,
   "metadata": {},
   "outputs": [],
   "source": [
    "D, sess = suggestr.open_dictionary('../dicts/main_en.dict')"
   ]
  },
  {
   "cell_type": "code",
   "execution_count": 3,
   "metadata": {},
   "outputs": [
    {
     "data": {
      "text/plain": [
       "<_suggestr.WordProperty at 0x7f9878547230>"
      ]
     },
     "execution_count": 3,
     "metadata": {},
     "output_type": "execute_result"
    }
   ],
   "source": [
    "D.get_word_prop(\"news\")"
   ]
  },
  {
   "cell_type": "code",
   "execution_count": 4,
   "metadata": {},
   "outputs": [],
   "source": [
    "def print_props(word, D):\n",
    "    w = D.get_word_prop(word)\n",
    "    up = w.get_unigram_prop()\n",
    "    bg = w.get_bigram_props()\n",
    "    print(\"=== {} ===\\n\".format(word))\n",
    "    if len(bg):\n",
    "        print(\"BIGRAM: {}\".format(len(bg)))\n",
    "        for b in bg:\n",
    "            print(\"  - {}\".format(b.get_target()))\n",
    "    print(\"Prob: {}\".format(up.get_probability()))\n",
    "    print(\"Shortcuts: {}\".format(up.has_shortcuts()))\n",
    "    print(\"Lvl: {}\".format(up.get_level()))\n",
    "    print(\"Is Not A Word: {}\".format(up.is_not_a_word()))\n",
    "    print(\"Blacklist: {}\".format(up.is_blacklisted()))"
   ]
  },
  {
   "cell_type": "code",
   "execution_count": 5,
   "metadata": {},
   "outputs": [
    {
     "name": "stdout",
     "output_type": "stream",
     "text": [
      "=== cooperation ===\n",
      "\n",
      "Prob: 122\n",
      "Shortcuts: False\n",
      "Lvl: 0\n",
      "Is Not A Word: False\n",
      "Blacklist: False\n"
     ]
    }
   ],
   "source": [
    "print_props(\"cooperation\", D)"
   ]
  },
  {
   "cell_type": "code",
   "execution_count": 6,
   "metadata": {},
   "outputs": [],
   "source": [
    "key_layout = suggestr.layout_to_keys('../layouts/german.yaml')"
   ]
  },
  {
   "cell_type": "code",
   "execution_count": 7,
   "metadata": {},
   "outputs": [
    {
     "data": {
      "text/plain": [
       "[('cooperation', 330870),\n",
       " ('cooperative', 305694),\n",
       " ('cooperate', 296168),\n",
       " ('cooperated', 272321),\n",
       " ('cooperating', 262207),\n",
       " ('cooperatives', 261248),\n",
       " ('cooperates', 240278),\n",
       " ('cooperatively', 225958),\n",
       " ('Cooper at', 178825),\n",
       " ('cooperators', 168367),\n",
       " ('cooperator', 151016),\n",
       " ('cooperativeness', 123334),\n",
       " ('copper at', 107539),\n",
       " ('cooper at', 80408),\n",
       " (\"cooperation's\", 79476),\n",
       " ('cooperant', 50223),\n",
       " ('cooler at', -20841),\n",
       " ('cooperage', -20891)]"
      ]
     },
     "execution_count": 7,
     "metadata": {},
     "output_type": "execute_result"
    }
   ],
   "source": [
    "suggestr.get_with_context(\"A cooperat\", D, sess, key_layout)"
   ]
  },
  {
   "cell_type": "markdown",
   "metadata": {},
   "source": [
    "## Creating a new, custom dictionary"
   ]
  },
  {
   "cell_type": "code",
   "execution_count": 8,
   "metadata": {},
   "outputs": [],
   "source": [
    "ND, nsess = suggestr.make_dictionary(\"de_DE\")"
   ]
  },
  {
   "cell_type": "code",
   "execution_count": 22,
   "metadata": {},
   "outputs": [
    {
     "data": {
      "text/plain": [
       "True"
      ]
     },
     "execution_count": 22,
     "metadata": {},
     "output_type": "execute_result"
    }
   ],
   "source": [
    "ND.add_unigram('Hallo', suggestr.UnigramProperty(probability=100, representsBeginningOfSentence=False, isNotAWord=False, isBlacklisted=False, timestamp=0, level=0, count=0, shortcuts=[]))\n",
    "ND.add_unigram('Tschüss', suggestr.UnigramProperty(probability=100, representsBeginningOfSentence=False, isNotAWord=False, isBlacklisted=False, timestamp=0, level=0, count=0, shortcuts=[]))"
   ]
  },
  {
   "cell_type": "code",
   "execution_count": 25,
   "metadata": {},
   "outputs": [
    {
     "data": {
      "text/plain": [
       "True"
      ]
     },
     "execution_count": 25,
     "metadata": {},
     "output_type": "execute_result"
    }
   ],
   "source": [
    "pwi = [suggestr.PrevWordInfo(\"Hallo\", False)]\n",
    "bp = suggestr.BigramProperty(\"Tschüss\", 240, 0, 0, 1)\n",
    "ND.add_ngram(pwi, bp)"
   ]
  },
  {
   "cell_type": "markdown",
   "metadata": {},
   "source": [
    "## Retrieving the just added word"
   ]
  },
  {
   "cell_type": "code",
   "execution_count": 26,
   "metadata": {},
   "outputs": [
    {
     "data": {
      "text/plain": [
       "[('Hallo', 181685)]"
      ]
     },
     "execution_count": 26,
     "metadata": {},
     "output_type": "execute_result"
    }
   ],
   "source": [
    "suggestr.get_with_context('Hllo', ND, nsess, key_layout)"
   ]
  },
  {
   "cell_type": "markdown",
   "metadata": {},
   "source": [
    "## Check prediction capabilities\n",
    "\n",
    "Here we hope to retrieve the ngram that was just added above"
   ]
  },
  {
   "cell_type": "code",
   "execution_count": 31,
   "metadata": {},
   "outputs": [
    {
     "data": {
      "text/plain": [
       "[('Tschüss', 240), ('Tschuess', 240)]"
      ]
     },
     "execution_count": 31,
     "metadata": {},
     "output_type": "execute_result"
    }
   ],
   "source": [
    "suggestr.get_with_context('Hallo ', ND, nsess, key_layout)"
   ]
  },
  {
   "cell_type": "markdown",
   "metadata": {},
   "source": [
    "## Saving the dictionary to disk"
   ]
  },
  {
   "cell_type": "code",
   "execution_count": 36,
   "metadata": {},
   "outputs": [],
   "source": [
    "ND.save('/tmp/testdict')"
   ]
  },
  {
   "cell_type": "code",
   "execution_count": 37,
   "metadata": {},
   "outputs": [
    {
     "name": "stdout",
     "output_type": "stream",
     "text": [
      "testdict.bigram_freq\t    testdict.header\t\t      testdict.tat\r\n",
      "testdict.bigram_index_freq  testdict.shortcut_index_shortcut  testdict.trie\r\n",
      "testdict.bigram_lookup\t    testdict.shortcut_lookup\r\n",
      "testdict.freq\t\t    testdict.shortcut_shortcut\r\n"
     ]
    }
   ],
   "source": [
    "!ls /tmp/testdict"
   ]
  }
 ],
 "metadata": {
  "kernelspec": {
   "display_name": "Python 3",
   "language": "python",
   "name": "python3"
  },
  "language_info": {
   "codemirror_mode": {
    "name": "ipython",
    "version": 3
   },
   "file_extension": ".py",
   "mimetype": "text/x-python",
   "name": "python",
   "nbconvert_exporter": "python",
   "pygments_lexer": "ipython3",
   "version": "3.7.5"
  }
 },
 "nbformat": 4,
 "nbformat_minor": 2
}
